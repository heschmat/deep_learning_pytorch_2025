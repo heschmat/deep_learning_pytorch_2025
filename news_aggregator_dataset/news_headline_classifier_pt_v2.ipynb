{
  "nbformat": 4,
  "nbformat_minor": 0,
  "metadata": {
    "colab": {
      "provenance": [],
      "gpuType": "T4"
    },
    "kernelspec": {
      "name": "python3",
      "display_name": "Python 3"
    },
    "language_info": {
      "name": "python"
    },
    "accelerator": "GPU"
  },
  "cells": [
    {
      "cell_type": "code",
      "execution_count": 1,
      "metadata": {
        "id": "nVzG6p0oKw5z"
      },
      "outputs": [],
      "source": [
        "\"\"\"\n",
        "news_classifier/\n",
        "├── main.py          # Main pipeline (train & evaluate)\n",
        "├── data_loader.py   # Dataset loading & preprocessing\n",
        "├── model.py         # Transformer-based classifier\n",
        "├── train.py         # Training loop (with saving)\n",
        "├── evaluate.py      # Evaluation logic\n",
        "├── infer.py         # Inference script\n",
        "├── utils.py         # Helpers (e.g., plots, save/load model)\n",
        "└── models/          # Stores saved models\n",
        "    └── news_bert.pth\n",
        "\"\"\";"
      ]
    },
    {
      "cell_type": "code",
      "source": [
        "%%writefile data_loader.py\n",
        "import pandas as pd\n",
        "from sklearn.preprocessing import LabelEncoder\n",
        "from sklearn.model_selection import train_test_split\n",
        "\n",
        "import torch\n",
        "from torch.utils.data import Dataset, DataLoader\n",
        "\n",
        "\n",
        "class NewsDataset(Dataset):\n",
        "    def __init__(self, texts, labels, tokenizer, max_len=128):\n",
        "        self.texts = texts\n",
        "        self.labels = labels\n",
        "        self.tokenizer = tokenizer\n",
        "        self.max_len = max_len\n",
        "\n",
        "    def __getitem__(self, idx):\n",
        "        text = self.texts[idx]\n",
        "        label = self.labels[idx]\n",
        "        encoding = self.tokenizer(\n",
        "            text,\n",
        "            truncation=True,\n",
        "            padding='max_length',\n",
        "            max_length=self.max_len,\n",
        "            return_tensors='pt'\n",
        "        )\n",
        "\n",
        "        x = {key: val.squeeze(0) for key, val in encoding.items()}\n",
        "        y = torch.tensor(label, dtype=torch.long)\n",
        "        return x, y\n",
        "\n",
        "    def __len__(self):\n",
        "        return len(self.texts)\n",
        "\n",
        "\n",
        "def load_data(file_path, tokenizer, test_size, rnd_seed=27):\n",
        "    df = pd.read_csv(file_path)\n",
        "    df.columns = ['headline', 'category', 'publisher', 'hostname']\n",
        "\n",
        "    # Encode categories to numerical values.\n",
        "    le = LabelEncoder()\n",
        "    df['category'] = le.fit_transform(df['category'])\n",
        "\n",
        "    X_train, X_test, y_train, y_test = train_test_split(df['headline'],\n",
        "                                                        df['category'],\n",
        "                                                        test_size=test_size,\n",
        "                                                        random_state=rnd_seed)\n",
        "\n",
        "    dataset_train = NewsDataset(X_train.tolist(), y_train.tolist(), tokenizer)\n",
        "    dataset_test = NewsDataset(X_test.tolist(), y_test.tolist(), tokenizer)\n",
        "\n",
        "    return dataset_train, dataset_test, le\n"
      ],
      "metadata": {
        "colab": {
          "base_uri": "https://localhost:8080/"
        },
        "id": "f96WzOUZK5fJ",
        "outputId": "3179721b-64db-4bef-e690-e0da36b84ed7"
      },
      "execution_count": 2,
      "outputs": [
        {
          "output_type": "stream",
          "name": "stdout",
          "text": [
            "Writing data_loader.py\n"
          ]
        }
      ]
    },
    {
      "cell_type": "code",
      "source": [
        "%%writefile model.py\n",
        "import torch\n",
        "import torch.nn as nn\n",
        "\n",
        "from transformers import AutoModel\n",
        "\n",
        "\n",
        "class NewsClassifier(nn.Module):\n",
        "    def __init__(self, model_name, num_classes):\n",
        "        super().__init__()\n",
        "        self.bert = AutoModel.from_pretrained(model_name)\n",
        "        self.classifier = nn.Linear(self.bert.config.hidden_size, num_classes)\n",
        "\n",
        "    def forward(self, input_ids, attention_mask):\n",
        "        outputs = self.bert(input_ids=input_ids, attention_mask=attention_mask)\n",
        "        return self.classifier(outputs.pooler_output)\n"
      ],
      "metadata": {
        "colab": {
          "base_uri": "https://localhost:8080/"
        },
        "id": "n41sNXgPNWMs",
        "outputId": "c6eb6eba-3946-468c-c947-ce6d04741cda"
      },
      "execution_count": 3,
      "outputs": [
        {
          "output_type": "stream",
          "name": "stdout",
          "text": [
            "Writing model.py\n"
          ]
        }
      ]
    },
    {
      "cell_type": "code",
      "source": [
        "%%writefile train.py\n",
        "import math\n",
        "import logging\n",
        "from tqdm import tqdm\n",
        "\n",
        "import torch\n",
        "import torch.nn as nn\n",
        "\n",
        "from evaluate import evaluate\n",
        "from utils import save_model\n",
        "\n",
        "\n",
        "logging.basicConfig(level=logging.INFO)\n",
        "\n",
        "def train(model, train_loader, test_loader, criterion, optimizer, tokenizer, label_encoder, num_epochs, device):\n",
        "    model.to(device)\n",
        "\n",
        "    train_loss, test_loss = [], []\n",
        "    train_acc, test_acc = [], []\n",
        "\n",
        "    for epoch in range(1, num_epochs + 1):\n",
        "        # loop = tqdm(range(1, num_epochs + 1), desc=f'Epoch {epoch}/{num_epochs}', leave=True)\n",
        "        model.train()\n",
        "        running_loss, correct, total = 0, 0, 0\n",
        "\n",
        "        # Automatically determine a reasonable log frequency\n",
        "        if len(train_loader) <= 50:\n",
        "            log_every = 1  # Log every batch for very small datasets\n",
        "        elif len(train_loader) <= 500:\n",
        "            log_every = max(1, len(train_loader) // 10)  # About 10 logs per epoch\n",
        "        else:\n",
        "            log_every = max(1, len(train_loader) // 20)  # About 20 logs for large datasets\n",
        "\n",
        "        num_batches = math.ceil(len(train_loader.dataset) / train_loader.batch_size)\n",
        "        for batch_idx, (inputs, labels) in enumerate(train_loader, start=1):\n",
        "            inputs = {key: val.to(device) for key, val in inputs.items() if key != 'token_type_ids'}\n",
        "            labels = labels.to(device)\n",
        "\n",
        "            optimizer.zero_grad()\n",
        "            outputs = model(**inputs)\n",
        "            loss = criterion(outputs, labels)\n",
        "            loss.backward()\n",
        "            optimizer.step()\n",
        "\n",
        "            running_loss += loss.item() * labels.size(0)\n",
        "            _, preds = torch.max(outputs, 1)\n",
        "            correct += (preds == labels).sum().item()\n",
        "            total += labels.size(0)\n",
        "\n",
        "            # Log periodically based on dynamically calculated log_every\n",
        "            if batch_idx % log_every == 0 or batch_idx == len(train_loader):\n",
        "                current_loss = running_loss / total\n",
        "                current_acc = correct / total\n",
        "                # loop.set_postfix(loss=f'{current_loss:.4f}', acc=f'{current_acc:.4f}')\n",
        "                tqdm.write(f'BATCH {batch_idx}/{num_batches} => Loss: {current_loss:.4f} - Acc {current_acc:.4f}')\n",
        "\n",
        "        epoch_loss = running_loss / len(train_loader.dataset)\n",
        "        epoch_acc = correct / total\n",
        "        train_loss.append(epoch_loss)\n",
        "        train_acc.append(epoch_acc)\n",
        "\n",
        "        # Evaluate on the test data\n",
        "        val_loss, val_acc = evaluate(model, test_loader, criterion, device)\n",
        "        test_loss.append(val_loss)\n",
        "        test_acc.append(val_acc)\n",
        "\n",
        "        logging.info(\n",
        "            f'\\n*** EPOCH {epoch}/{num_epochs} ***\\n'\n",
        "            f'Train Loss: {epoch_loss:.4f}, Train Acc: {epoch_acc:.4f} | '\n",
        "            f'Test Loss: {val_loss:.4f}, Test Acc: {val_acc:.4f}'\n",
        "        )\n",
        "        logging.info('=' * 45)\n",
        "\n",
        "    logging.info('*** Saving model, tokenizer & label encoder...')\n",
        "    save_model(model, tokenizer, label_encoder, save_dir='models', model_name='news_bert.pth')\n",
        "\n",
        "    return train_loss, train_acc, test_loss, test_acc\n"
      ],
      "metadata": {
        "colab": {
          "base_uri": "https://localhost:8080/"
        },
        "id": "joqSP9jwONg4",
        "outputId": "696bc1d8-3012-404b-ae3d-9364b7479b65"
      },
      "execution_count": 4,
      "outputs": [
        {
          "output_type": "stream",
          "name": "stdout",
          "text": [
            "Writing train.py\n"
          ]
        }
      ]
    },
    {
      "cell_type": "code",
      "source": [
        "%%writefile evaluate.py\n",
        "import torch\n",
        "\n",
        "\n",
        "def evaluate(model, loader, criterion, device):\n",
        "    model.eval()\n",
        "    total_loss, correct, total = 0, 0, 0\n",
        "\n",
        "    with torch.inference_mode():\n",
        "        for batch in loader:\n",
        "            inputs, labels = batch\n",
        "            # inputs = {key: val.to(device) for key, val in inputs.items()}\n",
        "            inputs = {key: val.to(device) for key, val in inputs.items() if key != 'token_type_ids'}\n",
        "            labels = labels.to(device)\n",
        "\n",
        "            outputs = model(**inputs)\n",
        "            loss = criterion(outputs, labels)\n",
        "\n",
        "            total_loss += loss.item() * labels.size(0)\n",
        "            _, preds = torch.max(outputs, 1)\n",
        "            correct += (preds == labels).sum().item()\n",
        "            total += labels.size(0)\n",
        "    return total_loss / len(loader.dataset), correct / total\n"
      ],
      "metadata": {
        "colab": {
          "base_uri": "https://localhost:8080/"
        },
        "id": "VJM2btZ-K-S8",
        "outputId": "8268a49d-9baa-4aaa-9cce-c45f43840f84"
      },
      "execution_count": 5,
      "outputs": [
        {
          "output_type": "stream",
          "name": "stdout",
          "text": [
            "Writing evaluate.py\n"
          ]
        }
      ]
    },
    {
      "cell_type": "code",
      "source": [
        "%%writefile infer.py\n",
        "import logging\n",
        "import argparse\n",
        "\n",
        "import torch\n",
        "\n",
        "from model import NewsClassifier\n",
        "from utils import load_model\n",
        "\n",
        "logging.basicConfig(level=logging.INFO)\n",
        "\n",
        "\n",
        "def predict(headlines, num_classes, model_path='models/news_bert.pth'):\n",
        "    device = torch.device('cuda' if torch.cuda.is_available() else 'cpu')\n",
        "    model, tokenizer, label_encoder = load_model(NewsClassifier, 'bert-base-uncased', num_classes, model_path)\n",
        "\n",
        "    model.to(device)\n",
        "    model.eval()\n",
        "\n",
        "    # If a single headline is given as string, make it a list of one:\n",
        "    if isinstance(headlines, str):\n",
        "        headlines = [headlines]\n",
        "    # Preprocess input\n",
        "    inputs = tokenizer(headlines, padding=True, truncation=True, max_length=128, return_tensors='pt')\n",
        "    inputs = {key: val.to(device) for key, val in inputs.items() if key != 'token_type_ids'}\n",
        "\n",
        "    with torch.no_grad():\n",
        "        outputs = model(**inputs)\n",
        "        predictions = torch.argmax(outputs, dim=1).cpu().numpy()\n",
        "\n",
        "    categories = label_encoder.inverse_transform(predictions)\n",
        "    category_map = {\n",
        "    'b': 'business',\n",
        "    't': 'tech & science',\n",
        "    'm': 'health & medicine',\n",
        "    'e': 'entertainment'\n",
        "    }\n",
        "\n",
        "    logging.info('Predicting sample headlines...')\n",
        "    for headline, category in zip(headlines, categories):\n",
        "        logging.info(f'Headline: {headline} => Predicted Category: {category_map[category]}')\n",
        "\n",
        "if __name__ == '__main__':\n",
        "    new_headlines = [\n",
        "        'Apple launches new iPhone with AI capabilities',\n",
        "        'Stock markets hit record high amid economic recovery',\n",
        "        'Scientists discover new exoplanet in the Milky Way',\n",
        "        'Sports team wins championship after thrilling final'\n",
        "    ]\n",
        "    logging.info('\\n\\nPredicting the sample headlines...')\n",
        "    predict(new_headlines, 4)\n"
      ],
      "metadata": {
        "colab": {
          "base_uri": "https://localhost:8080/"
        },
        "id": "AkgHs3sMoT7L",
        "outputId": "a26b65cb-cf81-466d-dca4-83c0002abcb2"
      },
      "execution_count": 6,
      "outputs": [
        {
          "output_type": "stream",
          "name": "stdout",
          "text": [
            "Writing infer.py\n"
          ]
        }
      ]
    },
    {
      "cell_type": "code",
      "source": [
        "%%writefile utils.py\n",
        "import os\n",
        "import pickle\n",
        "\n",
        "import matplotlib.pyplot as plt\n",
        "\n",
        "import torch\n",
        "\n",
        "\n",
        "def save_model(model, tokenizer, label_encoder, save_dir='models', model_name='news_bert.pth'):\n",
        "    os.makedirs(save_dir, exist_ok=True)\n",
        "\n",
        "    # Save model and tokenizer\n",
        "    save_path = os.path.join(save_dir, model_name)\n",
        "    torch.save({\n",
        "        'model_state_dict': model.state_dict(),\n",
        "        'tokenizer': tokenizer,\n",
        "        'label_encoder': label_encoder\n",
        "    }, save_path)\n",
        "\n",
        "    print(f'Model saved to {save_path}')\n",
        "\n",
        "\n",
        "def load_model(model_class, model_name, num_classes, model_path='models/news_bert.pth'):\n",
        "    checkpoint = torch.load(model_path, map_location=torch.device('cpu'))\n",
        "\n",
        "    model = model_class(model_name, num_classes)\n",
        "    model.load_state_dict(checkpoint['model_state_dict'])\n",
        "\n",
        "    tokenizer = checkpoint['tokenizer']\n",
        "    label_encoder = checkpoint['label_encoder']\n",
        "\n",
        "    print(f'Model loaded from {model_path}')\n",
        "    return model, tokenizer, label_encoder\n",
        "\n",
        "\n",
        "import matplotlib.pyplot as plt\n",
        "\n",
        "def plot_curves(train_loss, train_acc, test_loss, test_acc, save_path='training_curves.png'):\n",
        "    fig, axes = plt.subplots(1, 2, figsize=(12, 6))\n",
        "    epochs = range(1, len(train_loss) + 1)\n",
        "\n",
        "    def plot_metric(ax, y_train, y_test, title, ylabel):\n",
        "        ax.plot(epochs, y_train, label='Train')\n",
        "        ax.plot(epochs, y_test, label='Test')\n",
        "        ax.set_title(title)\n",
        "        ax.set_xlabel('Epochs')\n",
        "        ax.set_ylabel(ylabel)\n",
        "        ax.legend()\n",
        "\n",
        "        # Show every other epoch (or at least two ticks)\n",
        "        step = max(2, len(epochs) // 10)  # Adjust step size for large epochs\n",
        "        ax.set_xticks(list(epochs)[::step])\n",
        "\n",
        "    plot_metric(axes[0], train_loss, test_loss, 'Validation Curves', 'Loss')\n",
        "    plot_metric(axes[1], train_acc, test_acc, 'Accuracy Progression', 'Accuracy')\n",
        "\n",
        "    plt.tight_layout()\n",
        "    plt.savefig(save_path)\n",
        "    print(f'*** Plot saved to: {save_path} ***')\n",
        "\n",
        "    plt.show()\n",
        "    plt.close()  # Free memory\n"
      ],
      "metadata": {
        "colab": {
          "base_uri": "https://localhost:8080/"
        },
        "id": "htND0DXeRvGd",
        "outputId": "b74454f0-0112-4bb2-cb1f-74f640732ad7"
      },
      "execution_count": 7,
      "outputs": [
        {
          "output_type": "stream",
          "name": "stdout",
          "text": [
            "Writing utils.py\n"
          ]
        }
      ]
    },
    {
      "cell_type": "code",
      "source": [
        "%%writefile main.py\n",
        "import torch\n",
        "from torch.utils.data import DataLoader\n",
        "\n",
        "from transformers import AutoTokenizer\n",
        "\n",
        "from data_loader import load_data\n",
        "from model import NewsClassifier\n",
        "from train import train\n",
        "from utils import plot_curves\n",
        "\n",
        "\n",
        "def go():\n",
        "    device = torch.device('cuda' if torch.cuda.is_available() else 'cpu')\n",
        "\n",
        "    model_name = 'bert-base-uncased'\n",
        "    tokenizer = AutoTokenizer.from_pretrained(model_name)\n",
        "\n",
        "    dataset_train, dataset_test, label_encoder = load_data('headlines.csv', tokenizer, test_size=.2)\n",
        "    loader_train = DataLoader(dataset_train, batch_size=16, shuffle=True)\n",
        "    loader_test = DataLoader(dataset_test, batch_size=16, shuffle=False)\n",
        "\n",
        "    model = NewsClassifier(model_name, num_classes=len(label_encoder.classes_))\n",
        "    criterion = torch.nn.CrossEntropyLoss()\n",
        "    optimizer = torch.optim.AdamW(model.parameters(), lr=2e-5)\n",
        "\n",
        "    train_loss, train_acc, test_loss, test_acc = train(model,\n",
        "                                                       loader_train,\n",
        "                                                       loader_test,\n",
        "                                                       criterion,\n",
        "                                                       optimizer,\n",
        "                                                       tokenizer=tokenizer,\n",
        "                                                       label_encoder=label_encoder,\n",
        "                                                       num_epochs=2,\n",
        "                                                       device=device)\n",
        "\n",
        "    plot_curves(train_loss, train_acc, test_loss, test_acc)\n",
        "\n",
        "\n",
        "if __name__ == '__main__':\n",
        "    go()\n"
      ],
      "metadata": {
        "colab": {
          "base_uri": "https://localhost:8080/"
        },
        "id": "tXNkPLG0SAe7",
        "outputId": "360f1995-ef9a-4721-f910-80e16da67323"
      },
      "execution_count": 8,
      "outputs": [
        {
          "output_type": "stream",
          "name": "stdout",
          "text": [
            "Writing main.py\n"
          ]
        }
      ]
    },
    {
      "cell_type": "code",
      "source": [
        "!python main.py"
      ],
      "metadata": {
        "colab": {
          "base_uri": "https://localhost:8080/"
        },
        "id": "cWVD-S1dSBO_",
        "outputId": "f26eb55e-0b16-4315-df43-12ff31a78e32"
      },
      "execution_count": 9,
      "outputs": [
        {
          "output_type": "stream",
          "name": "stdout",
          "text": [
            "tokenizer_config.json: 100% 48.0/48.0 [00:00<00:00, 264kB/s]\n",
            "config.json: 100% 570/570 [00:00<00:00, 3.52MB/s]\n",
            "vocab.txt: 100% 232k/232k [00:00<00:00, 1.43MB/s]\n",
            "tokenizer.json: 100% 466k/466k [00:00<00:00, 2.82MB/s]\n",
            "2025-03-04 19:13:56.341514: E external/local_xla/xla/stream_executor/cuda/cuda_fft.cc:477] Unable to register cuFFT factory: Attempting to register factory for plugin cuFFT when one has already been registered\n",
            "WARNING: All log messages before absl::InitializeLog() is called are written to STDERR\n",
            "E0000 00:00:1741115636.373523     373 cuda_dnn.cc:8310] Unable to register cuDNN factory: Attempting to register factory for plugin cuDNN when one has already been registered\n",
            "E0000 00:00:1741115636.382983     373 cuda_blas.cc:1418] Unable to register cuBLAS factory: Attempting to register factory for plugin cuBLAS when one has already been registered\n",
            "2025-03-04 19:13:56.416370: I tensorflow/core/platform/cpu_feature_guard.cc:210] This TensorFlow binary is optimized to use available CPU instructions in performance-critical operations.\n",
            "To enable the following instructions: AVX2 AVX512F FMA, in other operations, rebuild TensorFlow with the appropriate compiler flags.\n",
            "model.safetensors: 100% 440M/440M [00:02<00:00, 208MB/s]\n",
            "BATCH 105/2113 => Loss: 0.7916 - Acc 0.7196\n",
            "BATCH 210/2113 => Loss: 0.6111 - Acc 0.7878\n",
            "BATCH 315/2113 => Loss: 0.5496 - Acc 0.8107\n",
            "BATCH 420/2113 => Loss: 0.5008 - Acc 0.8280\n",
            "BATCH 525/2113 => Loss: 0.4626 - Acc 0.8413\n",
            "BATCH 630/2113 => Loss: 0.4418 - Acc 0.8461\n",
            "BATCH 735/2113 => Loss: 0.4266 - Acc 0.8511\n",
            "BATCH 840/2113 => Loss: 0.4087 - Acc 0.8576\n",
            "BATCH 945/2113 => Loss: 0.3956 - Acc 0.8614\n",
            "BATCH 1050/2113 => Loss: 0.3825 - Acc 0.8662\n",
            "BATCH 1155/2113 => Loss: 0.3700 - Acc 0.8708\n",
            "BATCH 1260/2113 => Loss: 0.3599 - Acc 0.8744\n",
            "BATCH 1365/2113 => Loss: 0.3508 - Acc 0.8774\n",
            "BATCH 1470/2113 => Loss: 0.3446 - Acc 0.8798\n",
            "BATCH 1575/2113 => Loss: 0.3398 - Acc 0.8815\n",
            "BATCH 1680/2113 => Loss: 0.3343 - Acc 0.8837\n",
            "BATCH 1785/2113 => Loss: 0.3288 - Acc 0.8859\n",
            "BATCH 1890/2113 => Loss: 0.3235 - Acc 0.8879\n",
            "BATCH 1995/2113 => Loss: 0.3183 - Acc 0.8898\n",
            "BATCH 2100/2113 => Loss: 0.3139 - Acc 0.8915\n",
            "BATCH 2113/2113 => Loss: 0.3133 - Acc 0.8917\n",
            "INFO:root:\n",
            "*** EPOCH 1/2 ***\n",
            "Train Loss: 0.3133, Train Acc: 0.8917 | Test Loss: 0.2095, Test Acc: 0.9309\n",
            "INFO:root:=============================================\n",
            "BATCH 105/2113 => Loss: 0.1479 - Acc 0.9530\n",
            "BATCH 210/2113 => Loss: 0.1445 - Acc 0.9527\n",
            "BATCH 315/2113 => Loss: 0.1484 - Acc 0.9508\n",
            "BATCH 420/2113 => Loss: 0.1509 - Acc 0.9487\n",
            "BATCH 525/2113 => Loss: 0.1478 - Acc 0.9490\n",
            "BATCH 630/2113 => Loss: 0.1448 - Acc 0.9502\n",
            "BATCH 735/2113 => Loss: 0.1456 - Acc 0.9500\n",
            "BATCH 840/2113 => Loss: 0.1456 - Acc 0.9497\n",
            "BATCH 945/2113 => Loss: 0.1490 - Acc 0.9483\n",
            "BATCH 1050/2113 => Loss: 0.1497 - Acc 0.9478\n",
            "BATCH 1155/2113 => Loss: 0.1527 - Acc 0.9468\n",
            "BATCH 1260/2113 => Loss: 0.1537 - Acc 0.9470\n",
            "BATCH 1365/2113 => Loss: 0.1545 - Acc 0.9470\n",
            "BATCH 1470/2113 => Loss: 0.1531 - Acc 0.9474\n",
            "BATCH 1575/2113 => Loss: 0.1524 - Acc 0.9475\n",
            "BATCH 1680/2113 => Loss: 0.1524 - Acc 0.9478\n",
            "BATCH 1785/2113 => Loss: 0.1511 - Acc 0.9481\n",
            "BATCH 1890/2113 => Loss: 0.1519 - Acc 0.9481\n",
            "BATCH 1995/2113 => Loss: 0.1524 - Acc 0.9481\n",
            "BATCH 2100/2113 => Loss: 0.1518 - Acc 0.9485\n",
            "BATCH 2113/2113 => Loss: 0.1518 - Acc 0.9486\n",
            "INFO:root:\n",
            "*** EPOCH 2/2 ***\n",
            "Train Loss: 0.1518, Train Acc: 0.9486 | Test Loss: 0.2001, Test Acc: 0.9373\n",
            "INFO:root:=============================================\n",
            "INFO:root:*** Saving model, tokenizer & label encoder...\n",
            "Model saved to models/news_bert.pth\n",
            "*** Plot saved to: training_curves.png ***\n",
            "Figure(1200x600)\n"
          ]
        }
      ]
    },
    {
      "cell_type": "code",
      "source": [
        "from IPython.display import Image, display\n",
        "\n",
        "display(Image(filename='training_curves.png'))"
      ],
      "metadata": {
        "colab": {
          "base_uri": "https://localhost:8080/",
          "height": 573
        },
        "id": "km293QakcN9j",
        "outputId": "a1791da2-a046-49d8-b9e8-cba003d748fb"
      },
      "execution_count": 10,
      "outputs": [
        {
          "output_type": "display_data",
          "data": {
            "image/png": "[encoded data removed]",
            "text/plain": [
              "<IPython.core.display.Image object>"
            ]
          },
          "metadata": {}
        }
      ]
    },
    {
      "cell_type": "code",
      "source": [
        "!python infer.py"
      ],
      "metadata": {
        "colab": {
          "base_uri": "https://localhost:8080/"
        },
        "id": "4GcCO0t7EZcl",
        "outputId": "c8f4b277-6795-4e60-ac8a-0363d0b7d913"
      },
      "execution_count": 11,
      "outputs": [
        {
          "output_type": "stream",
          "name": "stdout",
          "text": [
            "INFO:root:\n",
            "\n",
            "Predicting the sample headlines...\n",
            "/content/utils.py:24: FutureWarning: You are using `torch.load` with `weights_only=False` (the current default value), which uses the default pickle module implicitly. It is possible to construct malicious pickle data which will execute arbitrary code during unpickling (See https://github.com/pytorch/pytorch/blob/main/SECURITY.md#untrusted-models for more details). In a future release, the default value for `weights_only` will be flipped to `True`. This limits the functions that could be executed during unpickling. Arbitrary objects will no longer be allowed to be loaded via this mode unless they are explicitly allowlisted by the user via `torch.serialization.add_safe_globals`. We recommend you start setting `weights_only=True` for any use case where you don't have full control of the loaded file. Please open an issue on GitHub for any issues related to this experimental feature.\n",
            "  checkpoint = torch.load(model_path, map_location=torch.device('cpu'))\n",
            "2025-03-04 19:39:21.955895: E external/local_xla/xla/stream_executor/cuda/cuda_fft.cc:477] Unable to register cuFFT factory: Attempting to register factory for plugin cuFFT when one has already been registered\n",
            "WARNING: All log messages before absl::InitializeLog() is called are written to STDERR\n",
            "E0000 00:00:1741117161.975436    6638 cuda_dnn.cc:8310] Unable to register cuDNN factory: Attempting to register factory for plugin cuDNN when one has already been registered\n",
            "E0000 00:00:1741117161.981392    6638 cuda_blas.cc:1418] Unable to register cuBLAS factory: Attempting to register factory for plugin cuBLAS when one has already been registered\n",
            "2025-03-04 19:39:22.001428: I tensorflow/core/platform/cpu_feature_guard.cc:210] This TensorFlow binary is optimized to use available CPU instructions in performance-critical operations.\n",
            "To enable the following instructions: AVX2 AVX512F FMA, in other operations, rebuild TensorFlow with the appropriate compiler flags.\n",
            "Model loaded from models/news_bert.pth\n",
            "INFO:root:Predicting sample headlines...\n",
            "INFO:root:Headline: Apple launches new iPhone with AI capabilities => Predicted Category: tech & science\n",
            "INFO:root:Headline: Stock markets hit record high amid economic recovery => Predicted Category: business\n",
            "INFO:root:Headline: Scientists discover new exoplanet in the Milky Way => Predicted Category: tech & science\n",
            "INFO:root:Headline: Sports team wins championship after thrilling final => Predicted Category: business\n"
          ]
        }
      ]
    },
    {
      "cell_type": "code",
      "source": [
        "%%writefile predict1.py\n",
        "\n",
        "from infer import predict\n",
        "\n",
        "headline = 'Sports team wins championship after thrilling final'\n",
        "predict(headline, num_classes=4)"
      ],
      "metadata": {
        "colab": {
          "base_uri": "https://localhost:8080/"
        },
        "id": "7EkM-p7lN2D2",
        "outputId": "11e0b706-af85-4223-b52f-4b6b03830058"
      },
      "execution_count": 12,
      "outputs": [
        {
          "output_type": "stream",
          "name": "stdout",
          "text": [
            "Writing predict1.py\n"
          ]
        }
      ]
    },
    {
      "cell_type": "code",
      "source": [
        "!python predict1.py"
      ],
      "metadata": {
        "colab": {
          "base_uri": "https://localhost:8080/"
        },
        "id": "1iVwZlDxTxDM",
        "outputId": "a71820c4-a4e9-4272-c7b6-90ce8ba18d99"
      },
      "execution_count": 13,
      "outputs": [
        {
          "output_type": "stream",
          "name": "stdout",
          "text": [
            "/content/utils.py:24: FutureWarning: You are using `torch.load` with `weights_only=False` (the current default value), which uses the default pickle module implicitly. It is possible to construct malicious pickle data which will execute arbitrary code during unpickling (See https://github.com/pytorch/pytorch/blob/main/SECURITY.md#untrusted-models for more details). In a future release, the default value for `weights_only` will be flipped to `True`. This limits the functions that could be executed during unpickling. Arbitrary objects will no longer be allowed to be loaded via this mode unless they are explicitly allowlisted by the user via `torch.serialization.add_safe_globals`. We recommend you start setting `weights_only=True` for any use case where you don't have full control of the loaded file. Please open an issue on GitHub for any issues related to this experimental feature.\n",
            "  checkpoint = torch.load(model_path, map_location=torch.device('cpu'))\n",
            "2025-03-04 19:39:33.374189: E external/local_xla/xla/stream_executor/cuda/cuda_fft.cc:477] Unable to register cuFFT factory: Attempting to register factory for plugin cuFFT when one has already been registered\n",
            "WARNING: All log messages before absl::InitializeLog() is called are written to STDERR\n",
            "E0000 00:00:1741117173.393849    6697 cuda_dnn.cc:8310] Unable to register cuDNN factory: Attempting to register factory for plugin cuDNN when one has already been registered\n",
            "E0000 00:00:1741117173.400936    6697 cuda_blas.cc:1418] Unable to register cuBLAS factory: Attempting to register factory for plugin cuBLAS when one has already been registered\n",
            "2025-03-04 19:39:33.420746: I tensorflow/core/platform/cpu_feature_guard.cc:210] This TensorFlow binary is optimized to use available CPU instructions in performance-critical operations.\n",
            "To enable the following instructions: AVX2 AVX512F FMA, in other operations, rebuild TensorFlow with the appropriate compiler flags.\n",
            "Model loaded from models/news_bert.pth\n",
            "INFO:root:Predicting sample headlines...\n",
            "INFO:root:Headline: Sports team wins championship after thrilling final => Predicted Category: business\n"
          ]
        }
      ]
    },
    {
      "cell_type": "code",
      "source": [
        "# why? Figured it out?\n",
        "from infer import predict\n",
        "\n",
        "headline = 'Sports team wins championship after thrilling final'\n",
        "predict(headline, num_classes=4)"
      ],
      "metadata": {
        "colab": {
          "base_uri": "https://localhost:8080/"
        },
        "id": "Szse8NShUi9N",
        "outputId": "e4e9f195-aee6-4654-f53b-71aeaf370fd3"
      },
      "execution_count": 14,
      "outputs": [
        {
          "output_type": "stream",
          "name": "stderr",
          "text": [
            "/content/utils.py:24: FutureWarning: You are using `torch.load` with `weights_only=False` (the current default value), which uses the default pickle module implicitly. It is possible to construct malicious pickle data which will execute arbitrary code during unpickling (See https://github.com/pytorch/pytorch/blob/main/SECURITY.md#untrusted-models for more details). In a future release, the default value for `weights_only` will be flipped to `True`. This limits the functions that could be executed during unpickling. Arbitrary objects will no longer be allowed to be loaded via this mode unless they are explicitly allowlisted by the user via `torch.serialization.add_safe_globals`. We recommend you start setting `weights_only=True` for any use case where you don't have full control of the loaded file. Please open an issue on GitHub for any issues related to this experimental feature.\n",
            "  checkpoint = torch.load(model_path, map_location=torch.device('cpu'))\n",
            "/usr/local/lib/python3.11/dist-packages/huggingface_hub/utils/_auth.py:104: UserWarning: \n",
            "Error while fetching `HF_TOKEN` secret value from your vault: 'Requesting secret HF_TOKEN timed out. Secrets can only be fetched when running from the Colab UI.'.\n",
            "You are not authenticated with the Hugging Face Hub in this notebook.\n",
            "If the error persists, please let us know by opening an issue on GitHub (https://github.com/huggingface/huggingface_hub/issues/new).\n",
            "  warnings.warn(\n"
          ]
        },
        {
          "output_type": "stream",
          "name": "stdout",
          "text": [
            "Model loaded from models/news_bert.pth\n"
          ]
        }
      ]
    },
    {
      "cell_type": "code",
      "source": [],
      "metadata": {
        "id": "Lys-0tocVfIo"
      },
      "execution_count": 14,
      "outputs": []
    }
  ]
}